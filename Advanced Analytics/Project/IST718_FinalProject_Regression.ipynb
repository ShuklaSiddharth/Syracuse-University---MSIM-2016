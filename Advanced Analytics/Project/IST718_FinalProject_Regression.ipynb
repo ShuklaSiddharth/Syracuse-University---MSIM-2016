{
 "cells": [
  {
   "cell_type": "markdown",
   "metadata": {},
   "source": [
    "Initial Data Load"
   ]
  },
  {
   "cell_type": "code",
   "execution_count": 9,
   "metadata": {
    "collapsed": false
   },
   "outputs": [],
   "source": [
    "%matplotlib inline\n",
    "import seaborn as sns\n",
    "sns.set_style(\"white\")\n",
    "import matplotlib as mpl\n",
    "import matplotlib.pyplot as plt\n",
    "import numpy as np\n",
    "import warnings\n",
    "warnings.filterwarnings(\"ignore\")\n",
    "import pandas as pd\n",
    "datasource = pd.read_csv('https://community.watsonanalytics.com/wp-content/uploads/2015/03/WA_Fn-UseC_-Marketing-Customer-Value-Analysis.csv')"
   ]
  },
  {
   "cell_type": "code",
   "execution_count": 10,
   "metadata": {
    "collapsed": true
   },
   "outputs": [],
   "source": [
    "Z = pd.DataFrame(datasource.iloc[:,:].as_matrix(), columns = ['Customer','State','CustomerLifetimeValue','Response','Coverage','Education','EffectiveToDate','EmploymentStatus','Gender','Income','LocationCode','MaritalStatus','MonthlyPremiumAuto','MonthsSinceLastClaim','MonthsSincePolicyInception','NumberofOpenComplaints','NumberofPolicies','PolicyType','Policy','RenewOfferType','SalesChannel','TotalClaimAmount','VehicleClass','VehicleSize'])"
   ]
  },
  {
   "cell_type": "code",
   "execution_count": 11,
   "metadata": {
    "collapsed": true
   },
   "outputs": [],
   "source": [
    "X = Z[['Income','MonthlyPremiumAuto','MonthsSinceLastClaim','MonthsSincePolicyInception','NumberofOpenComplaints','NumberofPolicies','TotalClaimAmount']]"
   ]
  },
  {
   "cell_type": "code",
   "execution_count": 12,
   "metadata": {
    "collapsed": true
   },
   "outputs": [],
   "source": [
    "y = Z[['CustomerLifetimeValue']]"
   ]
  },
  {
   "cell_type": "markdown",
   "metadata": {},
   "source": [
    "Prepare Training & Test Data for Linear Regression"
   ]
  },
  {
   "cell_type": "code",
   "execution_count": 13,
   "metadata": {
    "collapsed": true
   },
   "outputs": [],
   "source": [
    "from sklearn.linear_model import LinearRegression\n",
    "from sklearn.cross_validation import train_test_split"
   ]
  },
  {
   "cell_type": "code",
   "execution_count": 14,
   "metadata": {
    "collapsed": false
   },
   "outputs": [],
   "source": [
    "X_train_validation, X_test, y_train_validation, y_test = train_test_split(X, y, test_size = 0.1, random_state = 0)"
   ]
  },
  {
   "cell_type": "code",
   "execution_count": 15,
   "metadata": {
    "collapsed": true
   },
   "outputs": [],
   "source": [
    "X_train, X_validation, y_train, y_validation = train_test_split(X_train_validation, \n",
    "                                                                y_train_validation, \n",
    "                                                                test_size = 0.2, \n",
    "                                                                random_state = 0)"
   ]
  },
  {
   "cell_type": "markdown",
   "metadata": {},
   "source": [
    "Model fitting process"
   ]
  },
  {
   "cell_type": "code",
   "execution_count": 15,
   "metadata": {
    "collapsed": false
   },
   "outputs": [
    {
     "name": "stdout",
     "output_type": "stream",
     "text": [
      "Selecting  Index(['MonthlyPremiumAuto'], dtype='object')\n",
      "Selecting  Index(['NumberofOpenComplaints'], dtype='object')\n",
      "Selecting  Index(['Income'], dtype='object')\n",
      "Selecting  Index(['NumberofPolicies'], dtype='object')\n",
      "Selecting  Index(['TotalClaimAmount'], dtype='object')\n",
      "Selecting  Index(['MonthsSinceLastClaim'], dtype='object')\n"
     ]
    }
   ],
   "source": [
    "current_MSE = ((y_train - y_train.mean())**2).mean()[0]\n",
    "current_model_vars = set()\n",
    "p = X_train.shape[1]\n",
    "\n",
    "for k in range(p):\n",
    "    possible_next_vars = list(set(range(p)) - current_model_vars)\n",
    "    next_model_vars = current_model_vars\n",
    "    for next_var in possible_next_vars:\n",
    "        list(current_model_vars) + [next_var]\n",
    "        model = LinearRegression().fit(X_train.iloc[:, list(current_model_vars) + [next_var]], y_train)\n",
    "        model_validation_err = \\\n",
    "        ((model.predict(X_validation.iloc[:, list(current_model_vars) + [next_var]]) - y_validation)**2).mean()[0]\n",
    "        if model_validation_err < current_MSE:\n",
    "            next_model_vars = current_model_vars.union(set([next_var]))\n",
    "            current_MSE = model_validation_err\n",
    "    if next_model_vars == current_model_vars:\n",
    "        break\n",
    "    else:        \n",
    "        print(\"Selecting \", str(X_train.columns[list(next_model_vars - current_model_vars)]))\n",
    "        current_model_vars = next_model_vars"
   ]
  },
  {
   "cell_type": "code",
   "execution_count": 18,
   "metadata": {
    "collapsed": false
   },
   "outputs": [
    {
     "data": {
      "text/plain": [
       "[3]"
      ]
     },
     "execution_count": 18,
     "metadata": {},
     "output_type": "execute_result"
    }
   ],
   "source": [
    "possible_next_vars"
   ]
  },
  {
   "cell_type": "markdown",
   "metadata": {},
   "source": [
    "Final Model"
   ]
  },
  {
   "cell_type": "code",
   "execution_count": 19,
   "metadata": {
    "collapsed": false
   },
   "outputs": [
    {
     "data": {
      "text/plain": [
       "Index(['Income', 'MonthlyPremiumAuto', 'MonthsSinceLastClaim',\n",
       "       'NumberofOpenComplaints', 'NumberofPolicies', 'TotalClaimAmount'],\n",
       "      dtype='object')"
      ]
     },
     "execution_count": 19,
     "metadata": {},
     "output_type": "execute_result"
    }
   ],
   "source": [
    "X_train.columns[list(current_model_vars)]"
   ]
  },
  {
   "cell_type": "markdown",
   "metadata": {},
   "source": [
    "Checking Model Performance"
   ]
  },
  {
   "cell_type": "code",
   "execution_count": 20,
   "metadata": {
    "collapsed": false
   },
   "outputs": [
    {
     "data": {
      "text/plain": [
       "39180210.591260605"
      ]
     },
     "execution_count": 20,
     "metadata": {},
     "output_type": "execute_result"
    }
   ],
   "source": [
    "model = LinearRegression().fit(X_train.iloc[:, list(current_model_vars)], y_train)\n",
    "((model.predict(X_test.iloc[:, list(current_model_vars)]) - y_test)**2).mean()[0]"
   ]
  },
  {
   "cell_type": "markdown",
   "metadata": {},
   "source": [
    "Adding variables one by one"
   ]
  },
  {
   "cell_type": "code",
   "execution_count": 22,
   "metadata": {
    "collapsed": true
   },
   "outputs": [],
   "source": [
    "from sklearn.preprocessing import PolynomialFeatures, StandardScaler\n",
    "from sklearn.linear_model import LinearRegression\n",
    "from sklearn.neighbors import KNeighborsRegressor\n",
    "Xpoly = StandardScaler().fit_transform(PolynomialFeatures(degree=2).fit_transform(X))"
   ]
  },
  {
   "cell_type": "code",
   "execution_count": 23,
   "metadata": {
    "collapsed": false
   },
   "outputs": [],
   "source": [
    "all_mse_train = []\n",
    "all_mse_test = []\n",
    "for _ in range(100):\n",
    "    X_train, X_test, y_train, y_test = train_test_split(Xpoly, y.as_matrix(), test_size = 0.1)\n",
    "    mse_train = []\n",
    "    mse_test = []\n",
    "    for k in range(X_train.shape[1]):\n",
    "        idx_vars = np.random.choice(range(X_train.shape[1]), size=k+1)\n",
    "        lm = LinearRegression().fit(X_train[:, idx_vars], y_train)\n",
    "        mse_train.append(((y_train - lm.predict(X_train[:, idx_vars]))**2).mean())\n",
    "        mse_test.append(((y_test - lm.predict(X_test[:, idx_vars]))**2).mean())\n",
    "    all_mse_train.append(mse_train)\n",
    "    all_mse_test.append(mse_test)\n",
    "all_mse_train = np.array(all_mse_train)\n",
    "all_mse_test = np.array(all_mse_test)"
   ]
  },
  {
   "cell_type": "code",
   "execution_count": 24,
   "metadata": {
    "collapsed": false
   },
   "outputs": [
    {
     "data": {
      "image/png": "[encoded data removed]",
      "text/plain": [
       "<matplotlib.figure.Figure at 0x7fb4d60d7d68>"
      ]
     },
     "metadata": {},
     "output_type": "display_data"
    }
   ],
   "source": [
    "plt.plot(range(X_train.shape[1]), all_mse_train.mean(0), label='train');\n",
    "plt.plot(range(X_train.shape[1]), all_mse_test.mean(0), label='test');\n",
    "plt.legend();\n",
    "plt.xlabel('variables');\n",
    "plt.ylabel('MSE');"
   ]
  },
  {
   "cell_type": "code",
   "execution_count": 25,
   "metadata": {
    "collapsed": true
   },
   "outputs": [],
   "source": [
    "from sklearn.learning_curve import learning_curve"
   ]
  },
  {
   "cell_type": "code",
   "execution_count": 26,
   "metadata": {
    "collapsed": true
   },
   "outputs": [],
   "source": [
    "def MSE_score(estimator, X, y):\n",
    "    return ((estimator.predict(X) - y)**2).mean()[0]"
   ]
  },
  {
   "cell_type": "code",
   "execution_count": 28,
   "metadata": {
    "collapsed": false
   },
   "outputs": [],
   "source": [
    "train_sizes, train_scores, valid_scores = learning_curve(LinearRegression(), X[['Income']], y, scoring=MSE_score, cv  = 10)\n",
    "train_sizes2, train_scores2, valid_scores2 = learning_curve(LinearRegression(), X, y, scoring=MSE_score, cv  = 10)"
   ]
  },
  {
   "cell_type": "code",
   "execution_count": 30,
   "metadata": {
    "collapsed": false
   },
   "outputs": [
    {
     "data": {
      "image/png": "[encoded data removed]",
      "text/plain": [
       "<matplotlib.figure.Figure at 0x7fb4d602d438>"
      ]
     },
     "metadata": {},
     "output_type": "display_data"
    }
   ],
   "source": [
    "plt.plot(train_sizes, train_scores.mean(1), 'b', label='train (only Income)');\n",
    "plt.plot(train_sizes, valid_scores.mean(1), 'g', label='test (only Income)');\n",
    "plt.plot(train_sizes2, train_scores2.mean(1), 'b--', label='train (all)');\n",
    "plt.plot(train_sizes2, valid_scores2.mean(1), 'g--', label='test (all)');\n",
    "plt.legend();\n",
    "plt.xlabel('training size');\n",
    "plt.ylabel('MSE');"
   ]
  },
  {
   "cell_type": "code",
   "execution_count": 36,
   "metadata": {
    "collapsed": false
   },
   "outputs": [
    {
     "data": {
      "text/plain": [
       "array([[ 49923585.98215652,  56349438.91977616,  57159449.39251774, ...,\n",
       "         50568078.87631189,  46526949.41905951,  50284959.41764388],\n",
       "       [ 49606704.25078174,  51600270.28352112,  43407077.07796559, ...,\n",
       "         40607959.71498693,  41832545.56244969,  39696573.1863092 ],\n",
       "       [ 45135409.42542331,  48356756.49969601,  41972156.39883991, ...,\n",
       "         34499566.71856602,  34698431.33183303,  38396389.48385132],\n",
       "       ..., \n",
       "       [ 50905484.64870913,  46656559.09442812,  48683129.94444536, ...,\n",
       "         42569789.26699869,  43447008.73304867,  43275306.07702187],\n",
       "       [ 52872545.93221105,  52858935.45221642,  50300725.34149785, ...,\n",
       "         43442636.82478888,  39281241.21454427,  40059930.76080453],\n",
       "       [ 51560197.26288489,  50054658.03727667,  48753087.11753137, ...,\n",
       "         44013365.86998851,  43654811.48214699,  39369503.54937446]])"
      ]
     },
     "execution_count": 36,
     "metadata": {},
     "output_type": "execute_result"
    }
   ],
   "source": [
    "all_mse_test"
   ]
  },
  {
   "cell_type": "markdown",
   "metadata": {},
   "source": [
    "Model Selection one by one Manually"
   ]
  },
  {
   "cell_type": "markdown",
   "metadata": {},
   "source": [
    "Including all columns - 'Income','MonthlyPremiumAuto','MonthsSinceLastClaim','MonthsSincePolicyInception','NumberofOpenComplaints','NumberofPolicies','TotalClaimAmount'"
   ]
  },
  {
   "cell_type": "code",
   "execution_count": null,
   "metadata": {
    "collapsed": true
   },
   "outputs": [],
   "source": [
    "import pandas as pd\n",
    "datasource = pd.read_csv('https://community.watsonanalytics.com/wp-content/uploads/2015/03/WA_Fn-UseC_-Marketing-Customer-Value-Analysis.csv')\n",
    "Z = pd.DataFrame(datasource.iloc[:,:].as_matrix(), columns = ['Customer','State','CustomerLifetimeValue','Response','Coverage','Education','EffectiveToDate','EmploymentStatus','Gender','Income','LocationCode','MaritalStatus','MonthlyPremiumAuto','MonthsSinceLastClaim','MonthsSincePolicyInception','NumberofOpenComplaints','NumberofPolicies','PolicyType','Policy','RenewOfferType','SalesChannel','TotalClaimAmount','VehicleClass','VehicleSize'])\n",
    "X = Z[['Income','MonthlyPremiumAuto','MonthsSinceLastClaim','MonthsSincePolicyInception','NumberofOpenComplaints','NumberofPolicies','TotalClaimAmount']]\n",
    "y = Z[['CustomerLifetimeValue']]"
   ]
  },
  {
   "cell_type": "code",
   "execution_count": null,
   "metadata": {
    "collapsed": true
   },
   "outputs": [],
   "source": [
    "from sklearn.linear_model import LinearRegression\n",
    "from sklearn.cross_validation import train_test_split"
   ]
  },
  {
   "cell_type": "code",
   "execution_count": null,
   "metadata": {
    "collapsed": true
   },
   "outputs": [],
   "source": [
    "X_train_validation, X_test, y_train_validation, y_test = train_test_split(X, y, test_size = 0.1, random_state = 0)"
   ]
  },
  {
   "cell_type": "code",
   "execution_count": null,
   "metadata": {
    "collapsed": true
   },
   "outputs": [],
   "source": [
    "X_train, X_validation, y_train, y_validation = train_test_split(X_train_validation, \n",
    "                                                                y_train_validation, \n",
    "                                                                test_size = 0.2, \n",
    "                                                                random_state = 0)"
   ]
  },
  {
   "cell_type": "code",
   "execution_count": 182,
   "metadata": {
    "collapsed": false
   },
   "outputs": [],
   "source": [
    "model1 = LinearRegression().fit(X_train[['Income','MonthlyPremiumAuto','MonthsSinceLastClaim','MonthsSincePolicyInception','NumberofOpenComplaints','NumberofPolicies','TotalClaimAmount']], y_train)"
   ]
  },
  {
   "cell_type": "code",
   "execution_count": 183,
   "metadata": {
    "collapsed": false
   },
   "outputs": [],
   "source": [
    "model1_train_err = ((model1.predict(X_train[['Income','MonthlyPremiumAuto','MonthsSinceLastClaim','MonthsSincePolicyInception','NumberofOpenComplaints','NumberofPolicies','TotalClaimAmount']]) - y_train)**2).mean()[0]"
   ]
  },
  {
   "cell_type": "code",
   "execution_count": 184,
   "metadata": {
    "collapsed": false
   },
   "outputs": [
    {
     "data": {
      "text/plain": [
       "39173061.103578106"
      ]
     },
     "execution_count": 184,
     "metadata": {},
     "output_type": "execute_result"
    }
   ],
   "source": [
    "model1_train_err"
   ]
  },
  {
   "cell_type": "markdown",
   "metadata": {},
   "source": [
    "Removing Income"
   ]
  },
  {
   "cell_type": "code",
   "execution_count": 185,
   "metadata": {
    "collapsed": false
   },
   "outputs": [
    {
     "data": {
      "text/plain": [
       "array([[  6348.40624385],\n",
       "       [  8256.1772221 ],\n",
       "       [ 10211.80608217],\n",
       "       ..., \n",
       "       [  6580.61128937],\n",
       "       [  9217.88127941],\n",
       "       [  7335.50032318]])"
      ]
     },
     "execution_count": 185,
     "metadata": {},
     "output_type": "execute_result"
    }
   ],
   "source": [
    "model1.predict(X_train[['Income','MonthlyPremiumAuto','MonthsSinceLastClaim','MonthsSincePolicyInception','NumberofOpenComplaints','NumberofPolicies','TotalClaimAmount']])"
   ]
  },
  {
   "cell_type": "code",
   "execution_count": 56,
   "metadata": {
    "collapsed": false
   },
   "outputs": [
    {
     "data": {
      "text/plain": [
       "39194833.457941659"
      ]
     },
     "execution_count": 56,
     "metadata": {},
     "output_type": "execute_result"
    }
   ],
   "source": [
    "model_Income = LinearRegression().fit(X_train[['MonthlyPremiumAuto','MonthsSinceLastClaim','MonthsSincePolicyInception','NumberofOpenComplaints','NumberofPolicies','TotalClaimAmount']], y_train)\n",
    "model_Income_train_err = ((model_Income.predict(X_train[['MonthlyPremiumAuto','MonthsSinceLastClaim','MonthsSincePolicyInception','NumberofOpenComplaints','NumberofPolicies','TotalClaimAmount']]) - y_train)**2).mean()[0]\n",
    "model_Income_train_err"
   ]
  },
  {
   "cell_type": "markdown",
   "metadata": {},
   "source": [
    "Removing Income increased Error\n",
    "Now removing MonthlyPremiumAuto and putting Income back"
   ]
  },
  {
   "cell_type": "code",
   "execution_count": 57,
   "metadata": {
    "collapsed": false
   },
   "outputs": [
    {
     "data": {
      "text/plain": [
       "43572245.346640065"
      ]
     },
     "execution_count": 57,
     "metadata": {},
     "output_type": "execute_result"
    }
   ],
   "source": [
    "model_MonthlyPremiumAuto = LinearRegression().fit(X_train[['Income','MonthsSinceLastClaim','MonthsSincePolicyInception','NumberofOpenComplaints','NumberofPolicies','TotalClaimAmount']], y_train)\n",
    "model_MonthlyPremiumAuto_train_err = ((model_MonthlyPremiumAuto.predict(X_train[['Income','MonthsSinceLastClaim','MonthsSincePolicyInception','NumberofOpenComplaints','NumberofPolicies','TotalClaimAmount']]) - y_train)**2).mean()[0]\n",
    "model_MonthlyPremiumAuto_train_err"
   ]
  },
  {
   "cell_type": "markdown",
   "metadata": {},
   "source": [
    "Removing MonthlyPremiumAuto increased Error drastically\n",
    "Now removing MonthsSinceLastClaim and putting back MonthlyPremiumAuto"
   ]
  },
  {
   "cell_type": "code",
   "execution_count": 104,
   "metadata": {
    "collapsed": false
   },
   "outputs": [
    {
     "data": {
      "text/plain": [
       "39178435.140832938"
      ]
     },
     "execution_count": 104,
     "metadata": {},
     "output_type": "execute_result"
    }
   ],
   "source": [
    "model_MonthsSinceLastClaim = LinearRegression().fit(X_train[['Income','MonthlyPremiumAuto','MonthsSincePolicyInception','NumberofOpenComplaints','NumberofPolicies','TotalClaimAmount']], y_train)\n",
    "model_MonthsSinceLastClaim_train_err = ((model_MonthsSinceLastClaim.predict(X_train[['Income','MonthlyPremiumAuto','MonthsSincePolicyInception','NumberofOpenComplaints','NumberofPolicies','TotalClaimAmount']]) - y_train)**2).mean()[0]\n",
    "model_MonthsSinceLastClaim_train_err"
   ]
  },
  {
   "cell_type": "code",
   "execution_count": 106,
   "metadata": {
    "collapsed": false
   },
   "outputs": [
    {
     "data": {
      "text/html": [
       "<div>\n",
       "<table border=\"1\" class=\"dataframe\">\n",
       "  <thead>\n",
       "    <tr style=\"text-align: right;\">\n",
       "      <th></th>\n",
       "      <th>CustomerLifetimeValue</th>\n",
       "    </tr>\n",
       "  </thead>\n",
       "  <tbody>\n",
       "    <tr>\n",
       "      <th>4843</th>\n",
       "      <td>16979.8</td>\n",
       "    </tr>\n",
       "    <tr>\n",
       "      <th>5941</th>\n",
       "      <td>3808.12</td>\n",
       "    </tr>\n",
       "    <tr>\n",
       "      <th>5871</th>\n",
       "      <td>8818.05</td>\n",
       "    </tr>\n",
       "    <tr>\n",
       "      <th>1215</th>\n",
       "      <td>7879.93</td>\n",
       "    </tr>\n",
       "    <tr>\n",
       "      <th>6383</th>\n",
       "      <td>7019.18</td>\n",
       "    </tr>\n",
       "    <tr>\n",
       "      <th>4167</th>\n",
       "      <td>2799.47</td>\n",
       "    </tr>\n",
       "    <tr>\n",
       "      <th>4158</th>\n",
       "      <td>5687.9</td>\n",
       "    </tr>\n",
       "    <tr>\n",
       "      <th>589</th>\n",
       "      <td>5295.74</td>\n",
       "    </tr>\n",
       "    <tr>\n",
       "      <th>8038</th>\n",
       "      <td>10004.7</td>\n",
       "    </tr>\n",
       "    <tr>\n",
       "      <th>5061</th>\n",
       "      <td>4883.12</td>\n",
       "    </tr>\n",
       "    <tr>\n",
       "      <th>4977</th>\n",
       "      <td>3141.25</td>\n",
       "    </tr>\n",
       "    <tr>\n",
       "      <th>8461</th>\n",
       "      <td>3237.31</td>\n",
       "    </tr>\n",
       "    <tr>\n",
       "      <th>7868</th>\n",
       "      <td>2660.01</td>\n",
       "    </tr>\n",
       "    <tr>\n",
       "      <th>3721</th>\n",
       "      <td>7653.28</td>\n",
       "    </tr>\n",
       "    <tr>\n",
       "      <th>4444</th>\n",
       "      <td>14503</td>\n",
       "    </tr>\n",
       "    <tr>\n",
       "      <th>8180</th>\n",
       "      <td>3520.7</td>\n",
       "    </tr>\n",
       "    <tr>\n",
       "      <th>995</th>\n",
       "      <td>5595.39</td>\n",
       "    </tr>\n",
       "    <tr>\n",
       "      <th>5339</th>\n",
       "      <td>4200.37</td>\n",
       "    </tr>\n",
       "    <tr>\n",
       "      <th>6556</th>\n",
       "      <td>2674.73</td>\n",
       "    </tr>\n",
       "    <tr>\n",
       "      <th>2237</th>\n",
       "      <td>6282.32</td>\n",
       "    </tr>\n",
       "    <tr>\n",
       "      <th>7104</th>\n",
       "      <td>6897.51</td>\n",
       "    </tr>\n",
       "    <tr>\n",
       "      <th>5016</th>\n",
       "      <td>4132.59</td>\n",
       "    </tr>\n",
       "    <tr>\n",
       "      <th>6455</th>\n",
       "      <td>15956</td>\n",
       "    </tr>\n",
       "    <tr>\n",
       "      <th>7227</th>\n",
       "      <td>4814.35</td>\n",
       "    </tr>\n",
       "    <tr>\n",
       "      <th>7602</th>\n",
       "      <td>13869.9</td>\n",
       "    </tr>\n",
       "    <tr>\n",
       "      <th>8803</th>\n",
       "      <td>8256.3</td>\n",
       "    </tr>\n",
       "    <tr>\n",
       "      <th>8630</th>\n",
       "      <td>8906.51</td>\n",
       "    </tr>\n",
       "    <tr>\n",
       "      <th>6014</th>\n",
       "      <td>5229.99</td>\n",
       "    </tr>\n",
       "    <tr>\n",
       "      <th>7066</th>\n",
       "      <td>6722.7</td>\n",
       "    </tr>\n",
       "    <tr>\n",
       "      <th>6898</th>\n",
       "      <td>5095.44</td>\n",
       "    </tr>\n",
       "    <tr>\n",
       "      <th>...</th>\n",
       "      <td>...</td>\n",
       "    </tr>\n",
       "    <tr>\n",
       "      <th>6917</th>\n",
       "      <td>4334.21</td>\n",
       "    </tr>\n",
       "    <tr>\n",
       "      <th>3537</th>\n",
       "      <td>8420.43</td>\n",
       "    </tr>\n",
       "    <tr>\n",
       "      <th>1746</th>\n",
       "      <td>6627.17</td>\n",
       "    </tr>\n",
       "    <tr>\n",
       "      <th>6971</th>\n",
       "      <td>14041</td>\n",
       "    </tr>\n",
       "    <tr>\n",
       "      <th>6016</th>\n",
       "      <td>7531.03</td>\n",
       "    </tr>\n",
       "    <tr>\n",
       "      <th>219</th>\n",
       "      <td>2929.92</td>\n",
       "    </tr>\n",
       "    <tr>\n",
       "      <th>7374</th>\n",
       "      <td>8586.8</td>\n",
       "    </tr>\n",
       "    <tr>\n",
       "      <th>7867</th>\n",
       "      <td>4946.96</td>\n",
       "    </tr>\n",
       "    <tr>\n",
       "      <th>2909</th>\n",
       "      <td>5261.04</td>\n",
       "    </tr>\n",
       "    <tr>\n",
       "      <th>2671</th>\n",
       "      <td>6481.38</td>\n",
       "    </tr>\n",
       "    <tr>\n",
       "      <th>6193</th>\n",
       "      <td>3649.19</td>\n",
       "    </tr>\n",
       "    <tr>\n",
       "      <th>924</th>\n",
       "      <td>4880.34</td>\n",
       "    </tr>\n",
       "    <tr>\n",
       "      <th>4133</th>\n",
       "      <td>7180.28</td>\n",
       "    </tr>\n",
       "    <tr>\n",
       "      <th>1117</th>\n",
       "      <td>6187.35</td>\n",
       "    </tr>\n",
       "    <tr>\n",
       "      <th>5778</th>\n",
       "      <td>2719.51</td>\n",
       "    </tr>\n",
       "    <tr>\n",
       "      <th>3377</th>\n",
       "      <td>3034.8</td>\n",
       "    </tr>\n",
       "    <tr>\n",
       "      <th>1180</th>\n",
       "      <td>8084.85</td>\n",
       "    </tr>\n",
       "    <tr>\n",
       "      <th>6590</th>\n",
       "      <td>5154.05</td>\n",
       "    </tr>\n",
       "    <tr>\n",
       "      <th>6844</th>\n",
       "      <td>5502.73</td>\n",
       "    </tr>\n",
       "    <tr>\n",
       "      <th>3050</th>\n",
       "      <td>4563.02</td>\n",
       "    </tr>\n",
       "    <tr>\n",
       "      <th>3121</th>\n",
       "      <td>7163.54</td>\n",
       "    </tr>\n",
       "    <tr>\n",
       "      <th>2265</th>\n",
       "      <td>8693.63</td>\n",
       "    </tr>\n",
       "    <tr>\n",
       "      <th>4314</th>\n",
       "      <td>3123.08</td>\n",
       "    </tr>\n",
       "    <tr>\n",
       "      <th>551</th>\n",
       "      <td>10208.9</td>\n",
       "    </tr>\n",
       "    <tr>\n",
       "      <th>3889</th>\n",
       "      <td>17816.7</td>\n",
       "    </tr>\n",
       "    <tr>\n",
       "      <th>3495</th>\n",
       "      <td>5475.34</td>\n",
       "    </tr>\n",
       "    <tr>\n",
       "      <th>5652</th>\n",
       "      <td>6005.21</td>\n",
       "    </tr>\n",
       "    <tr>\n",
       "      <th>1877</th>\n",
       "      <td>5761.11</td>\n",
       "    </tr>\n",
       "    <tr>\n",
       "      <th>6053</th>\n",
       "      <td>8140</td>\n",
       "    </tr>\n",
       "    <tr>\n",
       "      <th>8202</th>\n",
       "      <td>3210.42</td>\n",
       "    </tr>\n",
       "  </tbody>\n",
       "</table>\n",
       "<p>6576 rows × 1 columns</p>\n",
       "</div>"
      ],
      "text/plain": [
       "     CustomerLifetimeValue\n",
       "4843               16979.8\n",
       "5941               3808.12\n",
       "5871               8818.05\n",
       "1215               7879.93\n",
       "6383               7019.18\n",
       "4167               2799.47\n",
       "4158                5687.9\n",
       "589                5295.74\n",
       "8038               10004.7\n",
       "5061               4883.12\n",
       "4977               3141.25\n",
       "8461               3237.31\n",
       "7868               2660.01\n",
       "3721               7653.28\n",
       "4444                 14503\n",
       "8180                3520.7\n",
       "995                5595.39\n",
       "5339               4200.37\n",
       "6556               2674.73\n",
       "2237               6282.32\n",
       "7104               6897.51\n",
       "5016               4132.59\n",
       "6455                 15956\n",
       "7227               4814.35\n",
       "7602               13869.9\n",
       "8803                8256.3\n",
       "8630               8906.51\n",
       "6014               5229.99\n",
       "7066                6722.7\n",
       "6898               5095.44\n",
       "...                    ...\n",
       "6917               4334.21\n",
       "3537               8420.43\n",
       "1746               6627.17\n",
       "6971                 14041\n",
       "6016               7531.03\n",
       "219                2929.92\n",
       "7374                8586.8\n",
       "7867               4946.96\n",
       "2909               5261.04\n",
       "2671               6481.38\n",
       "6193               3649.19\n",
       "924                4880.34\n",
       "4133               7180.28\n",
       "1117               6187.35\n",
       "5778               2719.51\n",
       "3377                3034.8\n",
       "1180               8084.85\n",
       "6590               5154.05\n",
       "6844               5502.73\n",
       "3050               4563.02\n",
       "3121               7163.54\n",
       "2265               8693.63\n",
       "4314               3123.08\n",
       "551                10208.9\n",
       "3889               17816.7\n",
       "3495               5475.34\n",
       "5652               6005.21\n",
       "1877               5761.11\n",
       "6053                  8140\n",
       "8202               3210.42\n",
       "\n",
       "[6576 rows x 1 columns]"
      ]
     },
     "execution_count": 106,
     "metadata": {},
     "output_type": "execute_result"
    }
   ],
   "source": [
    "y_train"
   ]
  },
  {
   "cell_type": "markdown",
   "metadata": {},
   "source": [
    "Removing MonthsSinceLastClaim increased Error\n",
    "Now removing MonthsSincePolicyInception and putting back MonthsSinceLastClaim"
   ]
  },
  {
   "cell_type": "code",
   "execution_count": 59,
   "metadata": {
    "collapsed": false
   },
   "outputs": [
    {
     "data": {
      "text/plain": [
       "39173338.163315758"
      ]
     },
     "execution_count": 59,
     "metadata": {},
     "output_type": "execute_result"
    }
   ],
   "source": [
    "model_MonthsSincePolicyInception = LinearRegression().fit(X_train[['Income','MonthlyPremiumAuto','MonthsSinceLastClaim','NumberofOpenComplaints','NumberofPolicies','TotalClaimAmount']], y_train)\n",
    "model_MonthsSincePolicyInception_train_err = ((model_MonthsSincePolicyInception.predict(X_train[['Income','MonthlyPremiumAuto','MonthsSinceLastClaim','NumberofOpenComplaints','NumberofPolicies','TotalClaimAmount']]) - y_train)**2).mean()[0]\n",
    "model_MonthsSincePolicyInception_train_err"
   ]
  },
  {
   "cell_type": "markdown",
   "metadata": {},
   "source": [
    "Removing MonthsSincePolicyInception increased Error\n",
    "Now removing NumberofOpenComplaints and putting back MonthsSincePolicyInception"
   ]
  },
  {
   "cell_type": "code",
   "execution_count": 61,
   "metadata": {
    "collapsed": false
   },
   "outputs": [
    {
     "data": {
      "text/plain": [
       "39210771.955400094"
      ]
     },
     "execution_count": 61,
     "metadata": {},
     "output_type": "execute_result"
    }
   ],
   "source": [
    "model_NumberofOpenComplaints = LinearRegression().fit(X_train[['Income','MonthlyPremiumAuto','MonthsSinceLastClaim','MonthsSincePolicyInception','NumberofPolicies','TotalClaimAmount']], y_train)\n",
    "model_NumberofOpenComplaints_train_err = ((model_NumberofOpenComplaints.predict(X_train[['Income','MonthlyPremiumAuto','MonthsSinceLastClaim','MonthsSincePolicyInception','NumberofPolicies','TotalClaimAmount']]) - y_train)**2).mean()[0]\n",
    "model_NumberofOpenComplaints_train_err"
   ]
  },
  {
   "cell_type": "markdown",
   "metadata": {},
   "source": [
    "Removing NumberofOpenComplaints increased Error\n",
    "Now removing NumberofPolicies and putting back NumberofOpenComplaints"
   ]
  },
  {
   "cell_type": "code",
   "execution_count": 62,
   "metadata": {
    "collapsed": false
   },
   "outputs": [
    {
     "data": {
      "text/plain": [
       "39195214.632313266"
      ]
     },
     "execution_count": 62,
     "metadata": {},
     "output_type": "execute_result"
    }
   ],
   "source": [
    "model_NumberofPolicies = LinearRegression().fit(X_train[['Income','MonthlyPremiumAuto','MonthsSinceLastClaim','MonthsSincePolicyInception','NumberofOpenComplaints','TotalClaimAmount']], y_train)\n",
    "model_NumberofPolicies_train_err = ((model_NumberofPolicies.predict(X_train[['Income','MonthlyPremiumAuto','MonthsSinceLastClaim','MonthsSincePolicyInception','NumberofOpenComplaints','TotalClaimAmount']]) - y_train)**2).mean()[0]\n",
    "model_NumberofPolicies_train_err"
   ]
  },
  {
   "cell_type": "markdown",
   "metadata": {},
   "source": [
    "Removing NumberofPolicies increased Error\n",
    "Now removing TotalClaimAmount and putting back NumberofPolicies"
   ]
  },
  {
   "cell_type": "code",
   "execution_count": 64,
   "metadata": {
    "collapsed": false
   },
   "outputs": [
    {
     "data": {
      "text/plain": [
       "39187766.565644823"
      ]
     },
     "execution_count": 64,
     "metadata": {},
     "output_type": "execute_result"
    }
   ],
   "source": [
    "model_TotalClaimAmount = LinearRegression().fit(X_train[['Income','MonthlyPremiumAuto','MonthsSinceLastClaim','MonthsSincePolicyInception','NumberofOpenComplaints','NumberofPolicies']], y_train)\n",
    "model_TotalClaimAmount_train_err = ((model_TotalClaimAmount.predict(X_train[['Income','MonthlyPremiumAuto','MonthsSinceLastClaim','MonthsSincePolicyInception','NumberofOpenComplaints','NumberofPolicies']]) - y_train)**2).mean()[0]\n",
    "model_TotalClaimAmount_train_err"
   ]
  },
  {
   "cell_type": "markdown",
   "metadata": {},
   "source": [
    "Removing TotalClaimAmount increased Error\n",
    "So the best model is with all the features included"
   ]
  },
  {
   "cell_type": "code",
   "execution_count": null,
   "metadata": {
    "collapsed": true
   },
   "outputs": [],
   "source": []
  },
  {
   "cell_type": "code",
   "execution_count": null,
   "metadata": {
    "collapsed": true
   },
   "outputs": [],
   "source": []
  },
  {
   "cell_type": "code",
   "execution_count": null,
   "metadata": {
    "collapsed": true
   },
   "outputs": [],
   "source": []
  },
  {
   "cell_type": "code",
   "execution_count": null,
   "metadata": {
    "collapsed": true
   },
   "outputs": [],
   "source": []
  },
  {
   "cell_type": "markdown",
   "metadata": {},
   "source": [
    "# Random Forest"
   ]
  },
  {
   "cell_type": "code",
   "execution_count": 2,
   "metadata": {
    "collapsed": false
   },
   "outputs": [
    {
     "name": "stderr",
     "output_type": "stream",
     "text": [
      "/usr/local/anaconda3/lib/python3.5/site-packages/pandas/computation/__init__.py:19: UserWarning: The installed version of numexpr 2.4.4 is not supported in pandas and will be not be used\n",
      "\n",
      "  UserWarning)\n"
     ]
    }
   ],
   "source": [
    "from pandas import Series, DataFrame\n",
    "import pandas as pd\n",
    "import numpy as np\n",
    "import os\n",
    "import matplotlib.pylab as plt\n",
    "from sklearn.cross_validation import train_test_split\n",
    "from sklearn.tree import DecisionTreeClassifier\n",
    "from sklearn.metrics import classification_report\n",
    "import sklearn.metrics\n",
    "\n",
    "from sklearn import datasets\n",
    "from sklearn.ensemble import ExtraTreesClassifier"
   ]
  },
  {
   "cell_type": "code",
   "execution_count": null,
   "metadata": {
    "collapsed": true
   },
   "outputs": [],
   "source": [
    "import pandas as pd\n",
    "datasource = pd.read_csv('https://community.watsonanalytics.com/wp-content/uploads/2015/03/WA_Fn-UseC_-Marketing-Customer-Value-Analysis.csv')\n",
    "Z = pd.DataFrame(datasource.iloc[:,:].as_matrix(), columns = ['Customer','State','CustomerLifetimeValue','Response','Coverage','Education','EffectiveToDate','EmploymentStatus','Gender','Income','LocationCode','MaritalStatus','MonthlyPremiumAuto','MonthsSinceLastClaim','MonthsSincePolicyInception','NumberofOpenComplaints','NumberofPolicies','PolicyType','Policy','RenewOfferType','SalesChannel','TotalClaimAmount','VehicleClass','VehicleSize'])"
   ]
  },
  {
   "cell_type": "code",
   "execution_count": 420,
   "metadata": {
    "collapsed": true
   },
   "outputs": [],
   "source": [
    "Xrf = Z[['Income','MonthlyPremiumAuto','MonthsSinceLastClaim','MonthsSincePolicyInception','NumberofOpenComplaints','NumberofPolicies','TotalClaimAmount']]\n",
    "yrf = Z[['CustomerLifetimeValue']]"
   ]
  },
  {
   "cell_type": "markdown",
   "metadata": {},
   "source": [
    "Remove Income"
   ]
  },
  {
   "cell_type": "code",
   "execution_count": 294,
   "metadata": {
    "collapsed": true
   },
   "outputs": [],
   "source": [
    "Xrf = Z[['MonthlyPremiumAuto','MonthsSinceLastClaim','MonthsSincePolicyInception','NumberofOpenComplaints','NumberofPolicies','TotalClaimAmount']]"
   ]
  },
  {
   "cell_type": "markdown",
   "metadata": {},
   "source": [
    "Remove MonthlPremiumAuto"
   ]
  },
  {
   "cell_type": "code",
   "execution_count": 306,
   "metadata": {
    "collapsed": true
   },
   "outputs": [],
   "source": [
    "Xrf = Z[['Income','MonthsSinceLastClaim','MonthsSincePolicyInception','NumberofOpenComplaints','NumberofPolicies','TotalClaimAmount']]"
   ]
  },
  {
   "cell_type": "markdown",
   "metadata": {},
   "source": [
    "Remove MonthsSinceLastClaim"
   ]
  },
  {
   "cell_type": "code",
   "execution_count": 318,
   "metadata": {
    "collapsed": true
   },
   "outputs": [],
   "source": [
    "Xrf = Z[['Income','MonthlyPremiumAuto','MonthsSincePolicyInception','NumberofOpenComplaints','NumberofPolicies','TotalClaimAmount']]"
   ]
  },
  {
   "cell_type": "markdown",
   "metadata": {},
   "source": [
    "Remove MonthsSincePolicyInception"
   ]
  },
  {
   "cell_type": "code",
   "execution_count": 330,
   "metadata": {
    "collapsed": true
   },
   "outputs": [],
   "source": [
    "Xrf = Z[['Income','MonthlyPremiumAuto','MonthsSinceLastClaim','NumberofOpenComplaints','NumberofPolicies','TotalClaimAmount']]"
   ]
  },
  {
   "cell_type": "markdown",
   "metadata": {},
   "source": [
    "Remove NumberofOpenComplaints"
   ]
  },
  {
   "cell_type": "code",
   "execution_count": 342,
   "metadata": {
    "collapsed": true
   },
   "outputs": [],
   "source": [
    "Xrf = Z[['Income','MonthlyPremiumAuto','MonthsSinceLastClaim','MonthsSincePolicyInception','NumberofPolicies','TotalClaimAmount']]"
   ]
  },
  {
   "cell_type": "markdown",
   "metadata": {},
   "source": [
    "Remove NumberofPolicies"
   ]
  },
  {
   "cell_type": "code",
   "execution_count": 354,
   "metadata": {
    "collapsed": true
   },
   "outputs": [],
   "source": [
    "Xrf = Z[['Income','MonthlyPremiumAuto','MonthsSinceLastClaim','MonthsSincePolicyInception','NumberofOpenComplaints','TotalClaimAmount']]"
   ]
  },
  {
   "cell_type": "markdown",
   "metadata": {},
   "source": [
    "Remove TotalClaimAmount"
   ]
  },
  {
   "cell_type": "code",
   "execution_count": 366,
   "metadata": {
    "collapsed": true
   },
   "outputs": [],
   "source": [
    "Xrf = Z[['Income','MonthlyPremiumAuto','MonthsSinceLastClaim','MonthsSincePolicyInception','NumberofOpenComplaints','NumberofPolicies']]"
   ]
  },
  {
   "cell_type": "code",
   "execution_count": 421,
   "metadata": {
    "collapsed": true
   },
   "outputs": [],
   "source": [
    "Xrf_train_validation, Xrf_test, yrf_train_validation, yrf_test = train_test_split(Xrf, yrf, test_size = 0.1, random_state = 0)"
   ]
  },
  {
   "cell_type": "code",
   "execution_count": 422,
   "metadata": {
    "collapsed": true
   },
   "outputs": [],
   "source": [
    "Xrf_train, Xrf_validation, yrf_train, yrf_validation = train_test_split(Xrf_train_validation, \n",
    "                                                                yrf_train_validation, \n",
    "                                                                test_size = 0.2, \n",
    "                                                                random_state = 0)"
   ]
  },
  {
   "cell_type": "code",
   "execution_count": 423,
   "metadata": {
    "collapsed": true
   },
   "outputs": [],
   "source": [
    "from sklearn.ensemble import RandomForestRegressor"
   ]
  },
  {
   "cell_type": "code",
   "execution_count": 424,
   "metadata": {
    "collapsed": false
   },
   "outputs": [],
   "source": [
    "regressor = RandomForestRegressor(n_estimators=150)"
   ]
  },
  {
   "cell_type": "code",
   "execution_count": 425,
   "metadata": {
    "collapsed": false
   },
   "outputs": [],
   "source": [
    "regressor = regressor.fit(Xrf_train,yrf_train)"
   ]
  },
  {
   "cell_type": "code",
   "execution_count": 426,
   "metadata": {
    "collapsed": false
   },
   "outputs": [
    {
     "data": {
      "text/plain": [
       "0.95653765955195502"
      ]
     },
     "execution_count": 426,
     "metadata": {},
     "output_type": "execute_result"
    }
   ],
   "source": [
    "regressor.score(Xrf_train,yrf_train)"
   ]
  },
  {
   "cell_type": "code",
   "execution_count": 427,
   "metadata": {
    "collapsed": false
   },
   "outputs": [],
   "source": [
    "predicted = regressor.predict(Xrf_test)"
   ]
  },
  {
   "cell_type": "code",
   "execution_count": 428,
   "metadata": {
    "collapsed": false
   },
   "outputs": [],
   "source": [
    "yrf_test_list = yrf_test['CustomerLifetimeValue'].tolist()"
   ]
  },
  {
   "cell_type": "code",
   "execution_count": 429,
   "metadata": {
    "collapsed": true
   },
   "outputs": [],
   "source": [
    "yrf_test_series = pd.Series(yrf_test_list)"
   ]
  },
  {
   "cell_type": "code",
   "execution_count": 430,
   "metadata": {
    "collapsed": false
   },
   "outputs": [],
   "source": [
    "mse = np.mean((regressor.predict(Xrf_test) - yrf_test_series)**2)"
   ]
  },
  {
   "cell_type": "code",
   "execution_count": 431,
   "metadata": {
    "collapsed": false
   },
   "outputs": [
    {
     "data": {
      "text/plain": [
       "12595402.202736666"
      ]
     },
     "execution_count": 431,
     "metadata": {},
     "output_type": "execute_result"
    }
   ],
   "source": [
    "mse"
   ]
  },
  {
   "cell_type": "code",
   "execution_count": 432,
   "metadata": {
    "collapsed": true
   },
   "outputs": [],
   "source": [
    "importance = regressor.feature_importances_"
   ]
  },
  {
   "cell_type": "code",
   "execution_count": 433,
   "metadata": {
    "collapsed": false
   },
   "outputs": [
    {
     "data": {
      "text/plain": [
       "array([ 0.07073568,  0.47028103,  0.01099797,  0.06240403,  0.06053917,\n",
       "        0.26777215,  0.05726997])"
      ]
     },
     "execution_count": 433,
     "metadata": {},
     "output_type": "execute_result"
    }
   ],
   "source": [
    "importance[::-1]"
   ]
  },
  {
   "cell_type": "code",
   "execution_count": 434,
   "metadata": {
    "collapsed": false
   },
   "outputs": [
    {
     "data": {
      "text/plain": [
       "array([ 0.05726997,  0.26777215,  0.06053917,  0.06240403,  0.01099797,\n",
       "        0.47028103,  0.07073568])"
      ]
     },
     "execution_count": 434,
     "metadata": {},
     "output_type": "execute_result"
    }
   ],
   "source": [
    "importance"
   ]
  },
  {
   "cell_type": "code",
   "execution_count": 435,
   "metadata": {
    "collapsed": false
   },
   "outputs": [],
   "source": [
    "std = np.std([tree.feature_importances_ for tree in regressor.estimators_],\n",
    "            axis=0)"
   ]
  },
  {
   "cell_type": "code",
   "execution_count": 436,
   "metadata": {
    "collapsed": false
   },
   "outputs": [],
   "source": [
    "indices = np.argsort(importance)[::-1]"
   ]
  },
  {
   "cell_type": "code",
   "execution_count": 437,
   "metadata": {
    "collapsed": false
   },
   "outputs": [
    {
     "data": {
      "text/plain": [
       "array([5, 1, 6, 3, 2, 0, 4])"
      ]
     },
     "execution_count": 437,
     "metadata": {},
     "output_type": "execute_result"
    }
   ],
   "source": [
    "indices"
   ]
  },
  {
   "cell_type": "code",
   "execution_count": 438,
   "metadata": {
    "collapsed": false
   },
   "outputs": [
    {
     "data": {
      "text/plain": [
       "7"
      ]
     },
     "execution_count": 438,
     "metadata": {},
     "output_type": "execute_result"
    }
   ],
   "source": [
    "Xrf_train.shape[1]"
   ]
  },
  {
   "cell_type": "code",
   "execution_count": 439,
   "metadata": {
    "collapsed": false
   },
   "outputs": [
    {
     "name": "stdout",
     "output_type": "stream",
     "text": [
      "feature ranking:\n",
      "1. feature 5 (0.470281)\n",
      "2. feature 1 (0.267772)\n",
      "3. feature 6 (0.070736)\n",
      "4. feature 3 (0.062404)\n",
      "5. feature 2 (0.060539)\n",
      "6. feature 0 (0.057270)\n",
      "7. feature 4 (0.010998)\n"
     ]
    }
   ],
   "source": [
    "print(\"feature ranking:\")\n",
    "\n",
    "for f in range(Xrf_train.shape[1]):\n",
    "    print(\"%d. feature %d (%f)\" % (f + 1, indices[f], importance[indices[f]]))"
   ]
  },
  {
   "cell_type": "code",
   "execution_count": 440,
   "metadata": {
    "collapsed": true
   },
   "outputs": [],
   "source": [
    "import matplotlib.pyplot as plt"
   ]
  },
  {
   "cell_type": "code",
   "execution_count": 444,
   "metadata": {
    "collapsed": false
   },
   "outputs": [
    {
     "data": {
      "image/png": "[encoded data removed]",
      "text/plain": [
       "<matplotlib.figure.Figure at 0x7f276d44a160>"
      ]
     },
     "metadata": {},
     "output_type": "display_data"
    }
   ],
   "source": [
    "plt.figure()\n",
    "plt.title(\"Feature Importance\")\n",
    "plt.bar(range(Xrf_train.shape[1]),importance[indices],\n",
    "        color=\"r\",yerr=std[indices],align=\"center\")\n",
    "plt.xticks(range(Xrf_train.shape[1]),indices)\n",
    "plt.xlim([-1,X.shape[1]])\n",
    "plt.show()"
   ]
  },
  {
   "cell_type": "code",
   "execution_count": 445,
   "metadata": {
    "collapsed": false
   },
   "outputs": [
    {
     "data": {
      "text/plain": [
       "<matplotlib.figure.Figure at 0x7f278d7f4828>"
      ]
     },
     "metadata": {},
     "output_type": "display_data"
    }
   ],
   "source": [
    "plt.savefig('feature.pdf')"
   ]
  },
  {
   "cell_type": "code",
   "execution_count": 452,
   "metadata": {
    "collapsed": false
   },
   "outputs": [],
   "source": [
    "yrf_test.to_csv('yrf_test.csv',sep=',')"
   ]
  },
  {
   "cell_type": "code",
   "execution_count": 451,
   "metadata": {
    "collapsed": false
   },
   "outputs": [],
   "source": [
    "np.savetxt('predicted.csv',predicted,delimiter=\",\")"
   ]
  },
  {
   "cell_type": "code",
   "execution_count": null,
   "metadata": {
    "collapsed": true
   },
   "outputs": [],
   "source": []
  }
 ],
 "metadata": {
  "kernelspec": {
   "display_name": "Python 3",
   "language": "python",
   "name": "python3"
  },
  "language_info": {
   "codemirror_mode": {
    "name": "ipython",
    "version": 3
   },
   "file_extension": ".py",
   "mimetype": "text/x-python",
   "name": "python",
   "nbconvert_exporter": "python",
   "pygments_lexer": "ipython3",
   "version": "3.5.2"
  }
 },
 "nbformat": 4,
 "nbformat_minor": 0
}
